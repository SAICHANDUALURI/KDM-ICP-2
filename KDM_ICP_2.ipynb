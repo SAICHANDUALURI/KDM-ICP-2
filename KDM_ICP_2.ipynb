{
  "nbformat": 4,
  "nbformat_minor": 0,
  "metadata": {
    "colab": {
      "name": "KDM-ICP-2",
      "provenance": [],
      "collapsed_sections": [],
      "authorship_tag": "ABX9TyMOMv7WEVFQB1zgVetyd7wV",
      "include_colab_link": true
    },
    "kernelspec": {
      "name": "python3",
      "display_name": "Python 3"
    }
  },
  "cells": [
    {
      "cell_type": "markdown",
      "metadata": {
        "id": "view-in-github",
        "colab_type": "text"
      },
      "source": [
        "<a href=\"https://colab.research.google.com/github/SAICHANDUALURI/KDM-ICP-2/blob/main/KDM_ICP_2.ipynb\" target=\"_parent\"><img src=\"https://colab.research.google.com/assets/colab-badge.svg\" alt=\"Open In Colab\"/></a>"
      ]
    },
    {
      "cell_type": "markdown",
      "metadata": {
        "id": "4kNteUYAjwIj"
      },
      "source": [
        "Task-1: Parts of Speech\n"
      ]
    },
    {
      "cell_type": "code",
      "metadata": {
        "colab": {
          "base_uri": "https://localhost:8080/"
        },
        "id": "F7g_BEYgcXuv",
        "outputId": "11f8b9ea-a134-4a81-d79d-cad4899e723b"
      },
      "source": [
        "import spacy\n",
        "sp = spacy.load('en_core_web_sm')\n",
        "txt = sp(\"Xi Jinping is a Chinese politician who has served as General Secretary of the Chinese Communist Party (CCP) and Chairman of the Central Military Commission (CMC) since 2012, and President of the People's Republic of China (PRC) since 2013. He has been the paramount leader of China, the most prominent political leader in the country, since 2012. The son of Chinese Communist veteran Xi Zhongxun, he was exiled to rural Yanchuan County as a teenager following his father's purge during the Cultural Revolution and lived in a cave in the village of Liangjiahe, where he joined the CCP and worked as the party secretary.\")\n",
        "print(txt.text)\n",
        "for word in txt:\n",
        "print(f'{word.text:{12}} {word.pos_:{10}} {word.tag_:{8}} {spacy.explain(word.tag_)}')\n"
      ],
      "execution_count": 9,
      "outputs": [
        {
          "output_type": "stream",
          "text": [
            "Xi Jinping is a Chinese politician who has served as General Secretary of the Chinese Communist Party (CCP) and Chairman of the Central Military Commission (CMC) since 2012, and President of the People's Republic of China (PRC) since 2013. He has been the paramount leader of China, the most prominent political leader in the country, since 2012. The son of Chinese Communist veteran Xi Zhongxun, he was exiled to rural Yanchuan County as a teenager following his father's purge during the Cultural Revolution and lived in a cave in the village of Liangjiahe, where he joined the CCP and worked as the party secretary.\n",
            "Xi           PROPN      NNP      noun, proper singular\n",
            "Jinping      PROPN      NNP      noun, proper singular\n",
            "is           AUX        VBZ      verb, 3rd person singular present\n",
            "a            DET        DT       determiner\n",
            "Chinese      ADJ        JJ       adjective\n",
            "politician   NOUN       NN       noun, singular or mass\n",
            "who          PRON       WP       wh-pronoun, personal\n",
            "has          AUX        VBZ      verb, 3rd person singular present\n",
            "served       VERB       VBN      verb, past participle\n",
            "as           SCONJ      IN       conjunction, subordinating or preposition\n",
            "General      PROPN      NNP      noun, proper singular\n",
            "Secretary    PROPN      NNP      noun, proper singular\n",
            "of           ADP        IN       conjunction, subordinating or preposition\n",
            "the          DET        DT       determiner\n",
            "Chinese      PROPN      NNP      noun, proper singular\n",
            "Communist    PROPN      NNP      noun, proper singular\n",
            "Party        PROPN      NNP      noun, proper singular\n",
            "(            PUNCT      -LRB-    left round bracket\n",
            "CCP          PROPN      NNP      noun, proper singular\n",
            ")            PUNCT      -RRB-    right round bracket\n",
            "and          CCONJ      CC       conjunction, coordinating\n",
            "Chairman     PROPN      NNP      noun, proper singular\n",
            "of           ADP        IN       conjunction, subordinating or preposition\n",
            "the          DET        DT       determiner\n",
            "Central      PROPN      NNP      noun, proper singular\n",
            "Military     PROPN      NNP      noun, proper singular\n",
            "Commission   PROPN      NNP      noun, proper singular\n",
            "(            PUNCT      -LRB-    left round bracket\n",
            "CMC          PROPN      NNP      noun, proper singular\n",
            ")            PUNCT      -RRB-    right round bracket\n",
            "since        SCONJ      IN       conjunction, subordinating or preposition\n",
            "2012         NUM        CD       cardinal number\n",
            ",            PUNCT      ,        punctuation mark, comma\n",
            "and          CCONJ      CC       conjunction, coordinating\n",
            "President    PROPN      NNP      noun, proper singular\n",
            "of           ADP        IN       conjunction, subordinating or preposition\n",
            "the          DET        DT       determiner\n",
            "People       PROPN      NNPS     noun, proper plural\n",
            "'s           PART       POS      possessive ending\n",
            "Republic     PROPN      NNP      noun, proper singular\n",
            "of           ADP        IN       conjunction, subordinating or preposition\n",
            "China        PROPN      NNP      noun, proper singular\n",
            "(            PUNCT      -LRB-    left round bracket\n",
            "PRC          PROPN      NNP      noun, proper singular\n",
            ")            PUNCT      -RRB-    right round bracket\n",
            "since        SCONJ      IN       conjunction, subordinating or preposition\n",
            "2013         NUM        CD       cardinal number\n",
            ".            PUNCT      .        punctuation mark, sentence closer\n",
            "He           PRON       PRP      pronoun, personal\n",
            "has          AUX        VBZ      verb, 3rd person singular present\n",
            "been         AUX        VBN      verb, past participle\n",
            "the          DET        DT       determiner\n",
            "paramount    ADJ        JJ       adjective\n",
            "leader       NOUN       NN       noun, singular or mass\n",
            "of           ADP        IN       conjunction, subordinating or preposition\n",
            "China        PROPN      NNP      noun, proper singular\n",
            ",            PUNCT      ,        punctuation mark, comma\n",
            "the          DET        DT       determiner\n",
            "most         ADV        RBS      adverb, superlative\n",
            "prominent    ADJ        JJ       adjective\n",
            "political    ADJ        JJ       adjective\n",
            "leader       NOUN       NN       noun, singular or mass\n",
            "in           ADP        IN       conjunction, subordinating or preposition\n",
            "the          DET        DT       determiner\n",
            "country      NOUN       NN       noun, singular or mass\n",
            ",            PUNCT      ,        punctuation mark, comma\n",
            "since        SCONJ      IN       conjunction, subordinating or preposition\n",
            "2012         NUM        CD       cardinal number\n",
            ".            PUNCT      .        punctuation mark, sentence closer\n",
            "The          DET        DT       determiner\n",
            "son          NOUN       NN       noun, singular or mass\n",
            "of           ADP        IN       conjunction, subordinating or preposition\n",
            "Chinese      PROPN      NNP      noun, proper singular\n",
            "Communist    ADJ        JJ       adjective\n",
            "veteran      NOUN       NN       noun, singular or mass\n",
            "Xi           PROPN      NNP      noun, proper singular\n",
            "Zhongxun     PROPN      NNP      noun, proper singular\n",
            ",            PUNCT      ,        punctuation mark, comma\n",
            "he           PRON       PRP      pronoun, personal\n",
            "was          AUX        VBD      verb, past tense\n",
            "exiled       VERB       VBN      verb, past participle\n",
            "to           ADP        IN       conjunction, subordinating or preposition\n",
            "rural        ADJ        JJ       adjective\n",
            "Yanchuan     PROPN      NNP      noun, proper singular\n",
            "County       PROPN      NNP      noun, proper singular\n",
            "as           SCONJ      IN       conjunction, subordinating or preposition\n",
            "a            DET        DT       determiner\n",
            "teenager     NOUN       NN       noun, singular or mass\n",
            "following    VERB       VBG      verb, gerund or present participle\n",
            "his          DET        PRP$     pronoun, possessive\n",
            "father       NOUN       NN       noun, singular or mass\n",
            "'s           PART       POS      possessive ending\n",
            "purge        NOUN       NN       noun, singular or mass\n",
            "during       ADP        IN       conjunction, subordinating or preposition\n",
            "the          DET        DT       determiner\n",
            "Cultural     PROPN      NNP      noun, proper singular\n",
            "Revolution   PROPN      NNP      noun, proper singular\n",
            "and          CCONJ      CC       conjunction, coordinating\n",
            "lived        VERB       VBD      verb, past tense\n",
            "in           ADP        IN       conjunction, subordinating or preposition\n",
            "a            DET        DT       determiner\n",
            "cave         NOUN       NN       noun, singular or mass\n",
            "in           ADP        IN       conjunction, subordinating or preposition\n",
            "the          DET        DT       determiner\n",
            "village      NOUN       NN       noun, singular or mass\n",
            "of           ADP        IN       conjunction, subordinating or preposition\n",
            "Liangjiahe   PROPN      NNP      noun, proper singular\n",
            ",            PUNCT      ,        punctuation mark, comma\n",
            "where        ADV        WRB      wh-adverb\n",
            "he           PRON       PRP      pronoun, personal\n",
            "joined       VERB       VBD      verb, past tense\n",
            "the          DET        DT       determiner\n",
            "CCP          PROPN      NNP      noun, proper singular\n",
            "and          CCONJ      CC       conjunction, coordinating\n",
            "worked       VERB       VBD      verb, past tense\n",
            "as           SCONJ      IN       conjunction, subordinating or preposition\n",
            "the          DET        DT       determiner\n",
            "party        NOUN       NN       noun, singular or mass\n",
            "secretary    NOUN       NN       noun, singular or mass\n",
            ".            PUNCT      .        punctuation mark, sentence closer\n"
          ],
          "name": "stdout"
        }
      ]
    },
    {
      "cell_type": "markdown",
      "metadata": {
        "id": "4gw2KchXwjb8"
      },
      "source": [
        "Task 2: Named Entity recognizer"
      ]
    },
    {
      "cell_type": "code",
      "metadata": {
        "colab": {
          "base_uri": "https://localhost:8080/"
        },
        "id": "AWeGw9u0moZ2",
        "outputId": "83b13f2a-46df-425a-e60d-4779a4022077"
      },
      "source": [
        "import spacy\n",
        "sp = spacy.load('en_core_web_sm')\n",
        "txt= sp(\"Xi Jinping is a Chinese politician who has served as General Secretary of the Chinese Communist Party (CCP) and Chairman of the Central Military Commission (CMC) since 2012, and President of the People's Republic of China (PRC) since 2013. He has been the paramount leader of China, the most prominent political leader in the country, since 2012. The son of Chinese Communist veteran Xi Zhongxun, he was exiled to rural Yanchuan County as a teenager following his father's purge during the Cultural Revolution and lived in a cave in the village of Liangjiahe, where he joined the CCP and worked as the party secretary.\")\n",
        "print(txt.ents)\n",
        "for entity in txt.ents:\n",
        "print(entity.text + ' - ' + entity.label_ + ' - ' + str(spacy.explain(entity.label_)))"
      ],
      "execution_count": 12,
      "outputs": [
        {
          "output_type": "stream",
          "text": [
            "(Xi Jinping, Chinese, the Chinese Communist Party, CCP, the Central Military Commission, 2012, the People's Republic of China, PRC, 2013, China, 2012, Chinese, Communist, Xi Zhongxun, Yanchuan County, the Cultural Revolution, Liangjiahe, CCP)\n",
            "Xi Jinping - PERSON - People, including fictional\n",
            "Chinese - NORP - Nationalities or religious or political groups\n",
            "the Chinese Communist Party - ORG - Companies, agencies, institutions, etc.\n",
            "CCP - ORG - Companies, agencies, institutions, etc.\n",
            "the Central Military Commission - ORG - Companies, agencies, institutions, etc.\n",
            "2012 - DATE - Absolute or relative dates or periods\n",
            "the People's Republic of China - GPE - Countries, cities, states\n",
            "PRC - GPE - Countries, cities, states\n",
            "2013 - DATE - Absolute or relative dates or periods\n",
            "China - GPE - Countries, cities, states\n",
            "2012 - DATE - Absolute or relative dates or periods\n",
            "Chinese - NORP - Nationalities or religious or political groups\n",
            "Communist - NORP - Nationalities or religious or political groups\n",
            "Xi Zhongxun - PERSON - People, including fictional\n",
            "Yanchuan County - GPE - Countries, cities, states\n",
            "the Cultural Revolution - EVENT - Named hurricanes, battles, wars, sports events, etc.\n",
            "Liangjiahe - GPE - Countries, cities, states\n",
            "CCP - ORG - Companies, agencies, institutions, etc.\n"
          ],
          "name": "stdout"
        }
      ]
    },
    {
      "cell_type": "markdown",
      "metadata": {
        "id": "8zrJ2p5FxALv"
      },
      "source": [
        "Task 3: Co-reference resolution"
      ]
    },
    {
      "cell_type": "code",
      "metadata": {
        "colab": {
          "base_uri": "https://localhost:8080/"
        },
        "id": "scW4bLmlIogi",
        "outputId": "5737800b-6603-406f-897c-298287d3917b"
      },
      "source": [
        "!pip install neuralcoref\n",
        "import spacy\n",
        "import neuralcoref\n",
        "nlp = spacy.load('en')\n",
        "neuralcoref.add_to_pipe(nlp)\n",
        "txt = nlp(\"Xi Jinping is a Chinese politician who has served as General Secretary of the Chinese Communist Party (CCP) and Chairman of the Central Military Commission (CMC) since 2012, and President of the People's Republic of China (PRC) since 2013. He has been the paramount leader of China, the most prominent political leader in the country, since 2012. The son of Chinese Communist veteran Xi Zhongxun, he was exiled to rural Yanchuan County as a teenager following his father's purge during the Cultural Revolution and lived in a cave in the village of Liangjiahe, where he joined the CCP and worked as the party secretary.\")\n",
        "print(txt._.coref_clusters)"
      ],
      "execution_count": null,
      "outputs": [
        {
          "output_type": "stream",
          "text": [
            "Requirement already satisfied: neuralcoref in /usr/local/lib/python3.6/dist-packages (4.0)\n",
            "Requirement already satisfied: boto3 in /usr/local/lib/python3.6/dist-packages (from neuralcoref) (1.16.63)\n",
            "Requirement already satisfied: spacy>=2.1.0 in /usr/local/lib/python3.6/dist-packages (from neuralcoref) (2.2.4)\n",
            "Requirement already satisfied: numpy>=1.15.0 in /usr/local/lib/python3.6/dist-packages (from neuralcoref) (1.19.5)\n",
            "Requirement already satisfied: requests<3.0.0,>=2.13.0 in /usr/local/lib/python3.6/dist-packages (from neuralcoref) (2.23.0)\n",
            "Requirement already satisfied: s3transfer<0.4.0,>=0.3.0 in /usr/local/lib/python3.6/dist-packages (from boto3->neuralcoref) (0.3.4)\n",
            "Requirement already satisfied: botocore<1.20.0,>=1.19.63 in /usr/local/lib/python3.6/dist-packages (from boto3->neuralcoref) (1.19.63)\n",
            "Requirement already satisfied: jmespath<1.0.0,>=0.7.1 in /usr/local/lib/python3.6/dist-packages (from boto3->neuralcoref) (0.10.0)\n",
            "Requirement already satisfied: preshed<3.1.0,>=3.0.2 in /usr/local/lib/python3.6/dist-packages (from spacy>=2.1.0->neuralcoref) (3.0.5)\n",
            "Requirement already satisfied: blis<0.5.0,>=0.4.0 in /usr/local/lib/python3.6/dist-packages (from spacy>=2.1.0->neuralcoref) (0.4.1)\n",
            "Requirement already satisfied: tqdm<5.0.0,>=4.38.0 in /usr/local/lib/python3.6/dist-packages (from spacy>=2.1.0->neuralcoref) (4.41.1)\n",
            "Requirement already satisfied: thinc==7.4.0 in /usr/local/lib/python3.6/dist-packages (from spacy>=2.1.0->neuralcoref) (7.4.0)\n",
            "Requirement already satisfied: setuptools in /usr/local/lib/python3.6/dist-packages (from spacy>=2.1.0->neuralcoref) (53.0.0)\n",
            "Requirement already satisfied: cymem<2.1.0,>=2.0.2 in /usr/local/lib/python3.6/dist-packages (from spacy>=2.1.0->neuralcoref) (2.0.5)\n",
            "Requirement already satisfied: srsly<1.1.0,>=1.0.2 in /usr/local/lib/python3.6/dist-packages (from spacy>=2.1.0->neuralcoref) (1.0.5)\n",
            "Requirement already satisfied: catalogue<1.1.0,>=0.0.7 in /usr/local/lib/python3.6/dist-packages (from spacy>=2.1.0->neuralcoref) (1.0.0)\n",
            "Requirement already satisfied: plac<1.2.0,>=0.9.6 in /usr/local/lib/python3.6/dist-packages (from spacy>=2.1.0->neuralcoref) (1.1.3)\n",
            "Requirement already satisfied: murmurhash<1.1.0,>=0.28.0 in /usr/local/lib/python3.6/dist-packages (from spacy>=2.1.0->neuralcoref) (1.0.5)\n",
            "Requirement already satisfied: wasabi<1.1.0,>=0.4.0 in /usr/local/lib/python3.6/dist-packages (from spacy>=2.1.0->neuralcoref) (0.8.1)\n",
            "Requirement already satisfied: chardet<4,>=3.0.2 in /usr/local/lib/python3.6/dist-packages (from requests<3.0.0,>=2.13.0->neuralcoref) (3.0.4)\n",
            "Requirement already satisfied: urllib3!=1.25.0,!=1.25.1,<1.26,>=1.21.1 in /usr/local/lib/python3.6/dist-packages (from requests<3.0.0,>=2.13.0->neuralcoref) (1.25.11)\n",
            "Requirement already satisfied: certifi>=2017.4.17 in /usr/local/lib/python3.6/dist-packages (from requests<3.0.0,>=2.13.0->neuralcoref) (2020.12.5)\n",
            "Requirement already satisfied: idna<3,>=2.5 in /usr/local/lib/python3.6/dist-packages (from requests<3.0.0,>=2.13.0->neuralcoref) (2.10)\n",
            "Requirement already satisfied: python-dateutil<3.0.0,>=2.1 in /usr/local/lib/python3.6/dist-packages (from botocore<1.20.0,>=1.19.63->boto3->neuralcoref) (2.8.1)\n",
            "Requirement already satisfied: importlib-metadata>=0.20; python_version < \"3.8\" in /usr/local/lib/python3.6/dist-packages (from catalogue<1.1.0,>=0.0.7->spacy>=2.1.0->neuralcoref) (3.4.0)\n",
            "Requirement already satisfied: six>=1.5 in /usr/local/lib/python3.6/dist-packages (from python-dateutil<3.0.0,>=2.1->botocore<1.20.0,>=1.19.63->boto3->neuralcoref) (1.15.0)\n",
            "Requirement already satisfied: typing-extensions>=3.6.4; python_version < \"3.8\" in /usr/local/lib/python3.6/dist-packages (from importlib-metadata>=0.20; python_version < \"3.8\"->catalogue<1.1.0,>=0.0.7->spacy>=2.1.0->neuralcoref) (3.7.4.3)\n",
            "Requirement already satisfied: zipp>=0.5 in /usr/local/lib/python3.6/dist-packages (from importlib-metadata>=0.20; python_version < \"3.8\"->catalogue<1.1.0,>=0.0.7->spacy>=2.1.0->neuralcoref) (3.4.0)\n"
          ],
          "name": "stdout"
        },
        {
          "output_type": "stream",
          "text": [
            "/usr/lib/python3.6/importlib/_bootstrap.py:219: RuntimeWarning: spacy.morphology.Morphology size changed, may indicate binary incompatibility. Expected 104 from C header, got 112 from PyObject\n",
            "  return f(*args, **kwds)\n",
            "/usr/lib/python3.6/importlib/_bootstrap.py:219: RuntimeWarning: spacy.vocab.Vocab size changed, may indicate binary incompatibility. Expected 96 from C header, got 104 from PyObject\n",
            "  return f(*args, **kwds)\n",
            "/usr/lib/python3.6/importlib/_bootstrap.py:219: RuntimeWarning: spacy.tokens.span.Span size changed, may indicate binary incompatibility. Expected 72 from C header, got 80 from PyObject\n",
            "  return f(*args, **kwds)\n"
          ],
          "name": "stderr"
        }
      ]
    },
    {
      "cell_type": "markdown",
      "metadata": {
        "id": "nM2EdiRSwvLi"
      },
      "source": [
        "Task 4: Lemmatization"
      ]
    },
    {
      "cell_type": "code",
      "metadata": {
        "colab": {
          "base_uri": "https://localhost:8080/",
          "height": 174
        },
        "id": "KqhAVJmLo0XI",
        "outputId": "26230a3f-c1f2-4acb-9b85-8c5f019d03ca"
      },
      "source": [
        "import nltk\n",
        "nltk.download('wordnet')\n",
        "nltk.download('punkt')\n",
        "from textblob import TextBlob, Word\n",
        "txt = \"Xi Jinping is a Chinese politician who has served as General Secretary of the Chinese Communist Party (CCP) and Chairman of the Central Military Commission (CMC) since 2012, and President of the People's Republic of China (PRC) since 2013. He has been the paramount leader of China, the most prominent political leader in the country, since 2012. The son of Chinese Communist veteran Xi Zhongxun, he was exiled to rural Yanchuan County as a teenager following his father's purge during the Cultural Revolution and lived in a cave in the village of Liangjiahe, where he joined the CCP and worked as the party secretary.\"\n",
        "t = TextBlob(txt)\n",
        "\" \". join([w.lemmatize() for w in t.words])"
      ],
      "execution_count": 25,
      "outputs": [
        {
          "output_type": "stream",
          "text": [
            "[nltk_data] Downloading package wordnet to /root/nltk_data...\n",
            "[nltk_data]   Package wordnet is already up-to-date!\n",
            "[nltk_data] Downloading package punkt to /root/nltk_data...\n",
            "[nltk_data]   Package punkt is already up-to-date!\n"
          ],
          "name": "stdout"
        },
        {
          "output_type": "execute_result",
          "data": {
            "application/vnd.google.colaboratory.intrinsic+json": {
              "type": "string"
            },
            "text/plain": [
              "\"Xi Jinping is a Chinese politician who ha served a General Secretary of the Chinese Communist Party CCP and Chairman of the Central Military Commission CMC since 2012 and President of the People 's Republic of China PRC since 2013 He ha been the paramount leader of China the most prominent political leader in the country since 2012 The son of Chinese Communist veteran Xi Zhongxun he wa exiled to rural Yanchuan County a a teenager following his father 's purge during the Cultural Revolution and lived in a cave in the village of Liangjiahe where he joined the CCP and worked a the party secretary\""
            ]
          },
          "metadata": {
            "tags": []
          },
          "execution_count": 25
        }
      ]
    },
    {
      "cell_type": "markdown",
      "metadata": {
        "id": "XwyiPBXT1VG5"
      },
      "source": [
        "Task 5: Parsing"
      ]
    },
    {
      "cell_type": "code",
      "metadata": {
        "colab": {
          "base_uri": "https://localhost:8080/",
          "height": 279
        },
        "id": "Lnt8CTsB5_NZ",
        "outputId": "20a1ffad-01ca-48b2-8802-63d9d524f62e"
      },
      "source": [
        "\n",
        "from textblob import TextBlob\n",
        "from textblob.parsers import PatternParser\n",
        "blob = TextBlob(\"Xi Jinping is a Chinese politician who has served as General Secretary of the Chinese Communist Party (CCP) and Chairman of the Central Military Commission (CMC) since 2012, and President of the People's Republic of China (PRC) since 2013. He has been the paramount leader of China, the most prominent political leader in the country, since 2012. The son of Chinese Communist veteran Xi Zhongxun, he was exiled to rural Yanchuan County as a teenager following his father's purge during the Cultural Revolution and lived in a cave in the village of Liangjiahe, where he joined the CCP and worked as the party secretary.\", parser=PatternParser())\n",
        "blob.parse()\n"
      ],
      "execution_count": 35,
      "outputs": [
        {
          "output_type": "execute_result",
          "data": {
            "application/vnd.google.colaboratory.intrinsic+json": {
              "type": "string"
            },
            "text/plain": [
              "\"Xi/NNP/B-NP/O Jinping/NNP/I-NP/O is/VBZ/B-VP/O a/DT/B-NP/O Chinese/JJ/I-NP/O politician/NN/I-NP/O who/WP/O/O has/VBZ/B-VP/O served/VBN/I-VP/O as/IN/B-PP/B-PNP General/NNP/B-NP/I-PNP Secretary/NNP/I-NP/I-PNP of/IN/B-PP/B-PNP the/DT/B-NP/I-PNP Chinese/JJ/I-NP/I-PNP Communist/NNP/I-NP/I-PNP Party/NNP/I-NP/I-PNP (/(/O/O CCP/NN/B-NP/O )/)/O/O and/CC/O/O Chairman/NNP/B-NP/O of/IN/B-PP/B-PNP the/DT/B-NP/I-PNP Central/NNP/I-NP/I-PNP Military/NNP/I-NP/I-PNP Commission/NNP/I-NP/I-PNP (/(/O/O CMC/NN/B-NP/O )/)/O/O since/IN/B-PP/O 2012/CD/O/O ,/,/O/O and/CC/O/O President/NNP/B-NP/O of/IN/B-PP/B-PNP the/DT/B-NP/I-PNP People/NNS/I-NP/I-PNP '/POS/O/O s/PRP/B-NP/O Republic/NNP/I-NP/O of/IN/B-PP/B-PNP China/NNP/B-NP/I-PNP (/(/O/O PRC/NNP/B-NP/O )/)/O/O since/IN/B-PP/O 2013/CD/O/O ././O/O\\nHe/PRP/B-NP/O has/VBZ/B-VP/O been/VBN/I-VP/O the/DT/B-NP/O paramount/JJ/I-NP/O leader/NN/I-NP/O of/IN/B-PP/B-PNP China/NNP/B-NP/I-PNP ,/,/O/O the/DT/B-NP/O most/RBS/I-NP/O prominent/JJ/I-NP/O political/JJ/I-NP/O leader/NN/I-NP/O in/IN/B-PP/B-PNP the/DT/B-NP/I-PNP country/NN/I-NP/I-PNP ,/,/O/O since/IN/B-PP/O 2012/CD/O/O ././O/O\\nThe/DT/B-NP/O son/NN/I-NP/O of/IN/B-PP/B-PNP Chinese/JJ/B-NP/I-PNP Communist/NNP/I-NP/I-PNP veteran/NN/I-NP/I-PNP Xi/NNP/I-NP/I-PNP Zhongxun/NNP/I-NP/I-PNP ,/,/O/O he/PRP/B-NP/O was/VBD/B-VP/O exiled/VBN/I-VP/O to/TO/B-PP/B-PNP rural/JJ/B-NP/I-PNP Yanchuan/NNP/I-NP/I-PNP County/NNP/I-NP/I-PNP as/IN/B-PP/B-PNP a/DT/B-NP/I-PNP teenager/NN/I-NP/I-PNP following/VBG/B-VP/I-PNP his/PRP$/B-NP/I-PNP father/NN/I-NP/I-PNP '/POS/O/O s/PRP/B-NP/O purge/NN/I-NP/O during/IN/B-PP/B-PNP the/DT/B-NP/I-PNP Cultural/NNP/I-NP/I-PNP Revolution/NNP/I-NP/I-PNP and/CC/O/O lived/VBD/B-VP/O in/IN/B-PP/B-PNP a/DT/B-NP/I-PNP cave/NN/I-NP/I-PNP in/IN/B-PP/B-PNP the/DT/B-NP/I-PNP village/NN/I-NP/I-PNP of/IN/B-PP/B-PNP Liangjiahe/NNP/B-NP/I-PNP ,/,/O/O where/WRB/B-ADVP/O he/PRP/B-NP/O joined/VBD/B-VP/O the/DT/B-NP/O CCP/NN/I-NP/O and/CC/O/O worked/VBD/B-VP/O as/IN/B-PP/B-PNP the/DT/B-NP/I-PNP party/NN/I-NP/I-PNP secretary/NN/I-NP/I-PNP ././O/O\""
            ]
          },
          "metadata": {
            "tags": []
          },
          "execution_count": 35
        }
      ]
    }
  ]
}